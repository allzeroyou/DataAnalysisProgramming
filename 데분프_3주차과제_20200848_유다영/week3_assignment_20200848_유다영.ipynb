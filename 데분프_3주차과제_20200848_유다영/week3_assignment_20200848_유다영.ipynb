{
 "cells": [
  {
   "cell_type": "markdown",
   "id": "8eceb605",
   "metadata": {},
   "source": [
    "# csv 파일 읽기"
   ]
  },
  {
   "cell_type": "markdown",
   "id": "3de79d75",
   "metadata": {},
   "source": [
    "<hr>"
   ]
  },
  {
   "cell_type": "code",
   "execution_count": 21,
   "id": "7dd6eab3",
   "metadata": {},
   "outputs": [
    {
     "data": {
      "text/html": [
       "<div>\n",
       "<style scoped>\n",
       "    .dataframe tbody tr th:only-of-type {\n",
       "        vertical-align: middle;\n",
       "    }\n",
       "\n",
       "    .dataframe tbody tr th {\n",
       "        vertical-align: top;\n",
       "    }\n",
       "\n",
       "    .dataframe thead th {\n",
       "        text-align: right;\n",
       "    }\n",
       "</style>\n",
       "<table border=\"1\" class=\"dataframe\">\n",
       "  <thead>\n",
       "    <tr style=\"text-align: right;\">\n",
       "      <th></th>\n",
       "      <th>기관아이디</th>\n",
       "      <th>기관이름</th>\n",
       "      <th>상품이름</th>\n",
       "      <th>숙박일자</th>\n",
       "      <th>상태</th>\n",
       "    </tr>\n",
       "  </thead>\n",
       "  <tbody>\n",
       "    <tr>\n",
       "      <th>0</th>\n",
       "      <td>141</td>\n",
       "      <td>덕유산 자연휴양림</td>\n",
       "      <td>야영데크(127)</td>\n",
       "      <td>2021-09-26</td>\n",
       "      <td>체크아웃</td>\n",
       "    </tr>\n",
       "    <tr>\n",
       "      <th>1</th>\n",
       "      <td>187</td>\n",
       "      <td>희리산 자연휴양림</td>\n",
       "      <td>607호 수선화</td>\n",
       "      <td>2021-10-04</td>\n",
       "      <td>체크아웃</td>\n",
       "    </tr>\n",
       "    <tr>\n",
       "      <th>2</th>\n",
       "      <td>191</td>\n",
       "      <td>오서산 자연휴양림</td>\n",
       "      <td>402호 복숭아꽃</td>\n",
       "      <td>2021-09-24</td>\n",
       "      <td>체크아웃</td>\n",
       "    </tr>\n",
       "    <tr>\n",
       "      <th>3</th>\n",
       "      <td>224</td>\n",
       "      <td>운악산 자연휴양림</td>\n",
       "      <td>[A동]꾀꼬리</td>\n",
       "      <td>2021-09-30</td>\n",
       "      <td>체크아웃</td>\n",
       "    </tr>\n",
       "    <tr>\n",
       "      <th>4</th>\n",
       "      <td>106</td>\n",
       "      <td>청태산 자연휴양림</td>\n",
       "      <td>분비나무</td>\n",
       "      <td>2021-09-29</td>\n",
       "      <td>체크아웃</td>\n",
       "    </tr>\n",
       "    <tr>\n",
       "      <th>...</th>\n",
       "      <td>...</td>\n",
       "      <td>...</td>\n",
       "      <td>...</td>\n",
       "      <td>...</td>\n",
       "      <td>...</td>\n",
       "    </tr>\n",
       "    <tr>\n",
       "      <th>142659</th>\n",
       "      <td>220</td>\n",
       "      <td>용현 자연휴양림</td>\n",
       "      <td>206호 창출</td>\n",
       "      <td>2022-03-14</td>\n",
       "      <td>체크아웃</td>\n",
       "    </tr>\n",
       "    <tr>\n",
       "      <th>142660</th>\n",
       "      <td>105</td>\n",
       "      <td>신불산 자연휴양림</td>\n",
       "      <td>하단2관 단풍취</td>\n",
       "      <td>2022-03-14</td>\n",
       "      <td>체크아웃</td>\n",
       "    </tr>\n",
       "    <tr>\n",
       "      <th>142661</th>\n",
       "      <td>105</td>\n",
       "      <td>신불산 자연휴양림</td>\n",
       "      <td>하단2관 고사리</td>\n",
       "      <td>2022-03-14</td>\n",
       "      <td>체크아웃</td>\n",
       "    </tr>\n",
       "    <tr>\n",
       "      <th>142662</th>\n",
       "      <td>300</td>\n",
       "      <td>상당산성 자연휴양림</td>\n",
       "      <td>1휴_207호금낭화</td>\n",
       "      <td>2022-03-14</td>\n",
       "      <td>체크아웃</td>\n",
       "    </tr>\n",
       "    <tr>\n",
       "      <th>142663</th>\n",
       "      <td>181</td>\n",
       "      <td>방장산 자연휴양림</td>\n",
       "      <td>오동나무(2층)</td>\n",
       "      <td>2022-03-14</td>\n",
       "      <td>체크아웃</td>\n",
       "    </tr>\n",
       "  </tbody>\n",
       "</table>\n",
       "<p>142664 rows × 5 columns</p>\n",
       "</div>"
      ],
      "text/plain": [
       "        기관아이디        기관이름        상품이름        숙박일자    상태\n",
       "0         141   덕유산 자연휴양림   야영데크(127)  2021-09-26  체크아웃\n",
       "1         187   희리산 자연휴양림    607호 수선화  2021-10-04  체크아웃\n",
       "2         191   오서산 자연휴양림   402호 복숭아꽃  2021-09-24  체크아웃\n",
       "3         224   운악산 자연휴양림     [A동]꾀꼬리  2021-09-30  체크아웃\n",
       "4         106   청태산 자연휴양림        분비나무  2021-09-29  체크아웃\n",
       "...       ...         ...         ...         ...   ...\n",
       "142659    220    용현 자연휴양림     206호 창출  2022-03-14  체크아웃\n",
       "142660    105   신불산 자연휴양림    하단2관 단풍취  2022-03-14  체크아웃\n",
       "142661    105   신불산 자연휴양림    하단2관 고사리  2022-03-14  체크아웃\n",
       "142662    300  상당산성 자연휴양림  1휴_207호금낭화  2022-03-14  체크아웃\n",
       "142663    181   방장산 자연휴양림    오동나무(2층)  2022-03-14  체크아웃\n",
       "\n",
       "[142664 rows x 5 columns]"
      ]
     },
     "execution_count": 21,
     "metadata": {},
     "output_type": "execute_result"
    }
   ],
   "source": [
    "# 관련 라이브러리 불러오기\n",
    "import pandas as pd           #판다스\n",
    "import matplotlib as mpl       #맷플롭립\n",
    "import matplotlib.pylab as plt   #맷플롭립 파이랩\n",
    "import seaborn as sns          #시본 \n",
    "import numpy as np           #넘파이\n",
    "\n",
    "#파일경로를 찾고 변수 file_path에 저장(상대경로)\n",
    "file_path= './산림청 국립자연휴양림관리소_국립자연휴양림 예약 정보_20220316 (3).csv'\n",
    "\n",
    "#read csv()함수로 데이터프레임 변환 \n",
    "df = pd.read_csv(file_path, encoding='utf-8')\n",
    "df"
   ]
  },
  {
   "cell_type": "markdown",
   "id": "e57febb0",
   "metadata": {},
   "source": [
    "# 데이터 확인하기(Viewing Data)"
   ]
  },
  {
   "cell_type": "markdown",
   "id": "f9cec295",
   "metadata": {},
   "source": [
    "<hr>"
   ]
  },
  {
   "cell_type": "code",
   "execution_count": 25,
   "id": "f9684945",
   "metadata": {},
   "outputs": [
    {
     "name": "stdout",
     "output_type": "stream",
     "text": [
      "<class 'pandas.core.frame.DataFrame'>\n",
      "RangeIndex: 142664 entries, 0 to 142663\n",
      "Data columns (total 5 columns):\n",
      " #   Column  Non-Null Count   Dtype \n",
      "---  ------  --------------   ----- \n",
      " 0   기관아이디   142664 non-null  int64 \n",
      " 1   기관이름    142664 non-null  object\n",
      " 2   상품이름    142664 non-null  object\n",
      " 3   숙박일자    142664 non-null  object\n",
      " 4   상태      142664 non-null  object\n",
      "dtypes: int64(1), object(4)\n",
      "memory usage: 5.4+ MB\n"
     ]
    }
   ],
   "source": [
    "df.info()"
   ]
  },
  {
   "cell_type": "code",
   "execution_count": 14,
   "id": "3a858235",
   "metadata": {},
   "outputs": [
    {
     "data": {
      "text/plain": [
       "(142664, 5)"
      ]
     },
     "execution_count": 14,
     "metadata": {},
     "output_type": "execute_result"
    }
   ],
   "source": [
    "df.shape # 행, 열이 총 몇갠지 출력"
   ]
  },
  {
   "cell_type": "code",
   "execution_count": 18,
   "id": "d19b0957",
   "metadata": {},
   "outputs": [
    {
     "data": {
      "text/html": [
       "<div>\n",
       "<style scoped>\n",
       "    .dataframe tbody tr th:only-of-type {\n",
       "        vertical-align: middle;\n",
       "    }\n",
       "\n",
       "    .dataframe tbody tr th {\n",
       "        vertical-align: top;\n",
       "    }\n",
       "\n",
       "    .dataframe thead th {\n",
       "        text-align: right;\n",
       "    }\n",
       "</style>\n",
       "<table border=\"1\" class=\"dataframe\">\n",
       "  <thead>\n",
       "    <tr style=\"text-align: right;\">\n",
       "      <th></th>\n",
       "      <th>기관아이디</th>\n",
       "      <th>기관이름</th>\n",
       "      <th>상품이름</th>\n",
       "      <th>숙박일자</th>\n",
       "      <th>상태</th>\n",
       "    </tr>\n",
       "  </thead>\n",
       "  <tbody>\n",
       "    <tr>\n",
       "      <th>0</th>\n",
       "      <td>141</td>\n",
       "      <td>덕유산 자연휴양림</td>\n",
       "      <td>야영데크(127)</td>\n",
       "      <td>2021-09-26</td>\n",
       "      <td>체크아웃</td>\n",
       "    </tr>\n",
       "    <tr>\n",
       "      <th>1</th>\n",
       "      <td>187</td>\n",
       "      <td>희리산 자연휴양림</td>\n",
       "      <td>607호 수선화</td>\n",
       "      <td>2021-10-04</td>\n",
       "      <td>체크아웃</td>\n",
       "    </tr>\n",
       "    <tr>\n",
       "      <th>2</th>\n",
       "      <td>191</td>\n",
       "      <td>오서산 자연휴양림</td>\n",
       "      <td>402호 복숭아꽃</td>\n",
       "      <td>2021-09-24</td>\n",
       "      <td>체크아웃</td>\n",
       "    </tr>\n",
       "    <tr>\n",
       "      <th>3</th>\n",
       "      <td>224</td>\n",
       "      <td>운악산 자연휴양림</td>\n",
       "      <td>[A동]꾀꼬리</td>\n",
       "      <td>2021-09-30</td>\n",
       "      <td>체크아웃</td>\n",
       "    </tr>\n",
       "    <tr>\n",
       "      <th>4</th>\n",
       "      <td>106</td>\n",
       "      <td>청태산 자연휴양림</td>\n",
       "      <td>분비나무</td>\n",
       "      <td>2021-09-29</td>\n",
       "      <td>체크아웃</td>\n",
       "    </tr>\n",
       "  </tbody>\n",
       "</table>\n",
       "</div>"
      ],
      "text/plain": [
       "   기관아이디       기관이름       상품이름        숙박일자    상태\n",
       "0    141  덕유산 자연휴양림  야영데크(127)  2021-09-26  체크아웃\n",
       "1    187  희리산 자연휴양림   607호 수선화  2021-10-04  체크아웃\n",
       "2    191  오서산 자연휴양림  402호 복숭아꽃  2021-09-24  체크아웃\n",
       "3    224  운악산 자연휴양림    [A동]꾀꼬리  2021-09-30  체크아웃\n",
       "4    106  청태산 자연휴양림       분비나무  2021-09-29  체크아웃"
      ]
     },
     "execution_count": 18,
     "metadata": {},
     "output_type": "execute_result"
    }
   ],
   "source": [
    "df.head(n=5) #위에서 5개 출력"
   ]
  },
  {
   "cell_type": "code",
   "execution_count": 19,
   "id": "95ee5a3b",
   "metadata": {},
   "outputs": [
    {
     "data": {
      "text/html": [
       "<div>\n",
       "<style scoped>\n",
       "    .dataframe tbody tr th:only-of-type {\n",
       "        vertical-align: middle;\n",
       "    }\n",
       "\n",
       "    .dataframe tbody tr th {\n",
       "        vertical-align: top;\n",
       "    }\n",
       "\n",
       "    .dataframe thead th {\n",
       "        text-align: right;\n",
       "    }\n",
       "</style>\n",
       "<table border=\"1\" class=\"dataframe\">\n",
       "  <thead>\n",
       "    <tr style=\"text-align: right;\">\n",
       "      <th></th>\n",
       "      <th>기관아이디</th>\n",
       "      <th>기관이름</th>\n",
       "      <th>상품이름</th>\n",
       "      <th>숙박일자</th>\n",
       "      <th>상태</th>\n",
       "    </tr>\n",
       "  </thead>\n",
       "  <tbody>\n",
       "    <tr>\n",
       "      <th>142659</th>\n",
       "      <td>220</td>\n",
       "      <td>용현 자연휴양림</td>\n",
       "      <td>206호 창출</td>\n",
       "      <td>2022-03-14</td>\n",
       "      <td>체크아웃</td>\n",
       "    </tr>\n",
       "    <tr>\n",
       "      <th>142660</th>\n",
       "      <td>105</td>\n",
       "      <td>신불산 자연휴양림</td>\n",
       "      <td>하단2관 단풍취</td>\n",
       "      <td>2022-03-14</td>\n",
       "      <td>체크아웃</td>\n",
       "    </tr>\n",
       "    <tr>\n",
       "      <th>142661</th>\n",
       "      <td>105</td>\n",
       "      <td>신불산 자연휴양림</td>\n",
       "      <td>하단2관 고사리</td>\n",
       "      <td>2022-03-14</td>\n",
       "      <td>체크아웃</td>\n",
       "    </tr>\n",
       "    <tr>\n",
       "      <th>142662</th>\n",
       "      <td>300</td>\n",
       "      <td>상당산성 자연휴양림</td>\n",
       "      <td>1휴_207호금낭화</td>\n",
       "      <td>2022-03-14</td>\n",
       "      <td>체크아웃</td>\n",
       "    </tr>\n",
       "    <tr>\n",
       "      <th>142663</th>\n",
       "      <td>181</td>\n",
       "      <td>방장산 자연휴양림</td>\n",
       "      <td>오동나무(2층)</td>\n",
       "      <td>2022-03-14</td>\n",
       "      <td>체크아웃</td>\n",
       "    </tr>\n",
       "  </tbody>\n",
       "</table>\n",
       "</div>"
      ],
      "text/plain": [
       "        기관아이디        기관이름        상품이름        숙박일자    상태\n",
       "142659    220    용현 자연휴양림     206호 창출  2022-03-14  체크아웃\n",
       "142660    105   신불산 자연휴양림    하단2관 단풍취  2022-03-14  체크아웃\n",
       "142661    105   신불산 자연휴양림    하단2관 고사리  2022-03-14  체크아웃\n",
       "142662    300  상당산성 자연휴양림  1휴_207호금낭화  2022-03-14  체크아웃\n",
       "142663    181   방장산 자연휴양림    오동나무(2층)  2022-03-14  체크아웃"
      ]
     },
     "execution_count": 19,
     "metadata": {},
     "output_type": "execute_result"
    }
   ],
   "source": [
    "df.tail(n=5) #아래에서 5개 출력"
   ]
  },
  {
   "cell_type": "code",
   "execution_count": 26,
   "id": "2d078375",
   "metadata": {},
   "outputs": [
    {
     "data": {
      "text/plain": [
       "array([[141, '덕유산 자연휴양림', '야영데크(127)', '2021-09-26', '체크아웃'],\n",
       "       [187, '희리산 자연휴양림', '607호 수선화', '2021-10-04', '체크아웃'],\n",
       "       [191, '오서산 자연휴양림', '402호 복숭아꽃', '2021-09-24', '체크아웃'],\n",
       "       ...,\n",
       "       [105, '신불산 자연휴양림', '하단2관 고사리', '2022-03-14', '체크아웃'],\n",
       "       [300, '상당산성 자연휴양림', '1휴_207호금낭화', '2022-03-14', '체크아웃'],\n",
       "       [181, '방장산 자연휴양림', '오동나무(2층)', '2022-03-14', '체크아웃']], dtype=object)"
      ]
     },
     "execution_count": 26,
     "metadata": {},
     "output_type": "execute_result"
    }
   ],
   "source": [
    "df.index # 데이터 프레임의 인덱스\n",
    "df.columns # 데이터 프레임의 컬럼\n",
    "df.values # 안에 들어있는 numpy 데이터"
   ]
  },
  {
   "cell_type": "code",
   "execution_count": 27,
   "id": "65e85635",
   "metadata": {},
   "outputs": [
    {
     "data": {
      "text/html": [
       "<div>\n",
       "<style scoped>\n",
       "    .dataframe tbody tr th:only-of-type {\n",
       "        vertical-align: middle;\n",
       "    }\n",
       "\n",
       "    .dataframe tbody tr th {\n",
       "        vertical-align: top;\n",
       "    }\n",
       "\n",
       "    .dataframe thead th {\n",
       "        text-align: right;\n",
       "    }\n",
       "</style>\n",
       "<table border=\"1\" class=\"dataframe\">\n",
       "  <thead>\n",
       "    <tr style=\"text-align: right;\">\n",
       "      <th></th>\n",
       "      <th>기관아이디</th>\n",
       "    </tr>\n",
       "  </thead>\n",
       "  <tbody>\n",
       "    <tr>\n",
       "      <th>count</th>\n",
       "      <td>142664.000000</td>\n",
       "    </tr>\n",
       "    <tr>\n",
       "      <th>mean</th>\n",
       "      <td>170.411127</td>\n",
       "    </tr>\n",
       "    <tr>\n",
       "      <th>std</th>\n",
       "      <td>59.214484</td>\n",
       "    </tr>\n",
       "    <tr>\n",
       "      <th>min</th>\n",
       "      <td>101.000000</td>\n",
       "    </tr>\n",
       "    <tr>\n",
       "      <th>25%</th>\n",
       "      <td>109.000000</td>\n",
       "    </tr>\n",
       "    <tr>\n",
       "      <th>50%</th>\n",
       "      <td>187.000000</td>\n",
       "    </tr>\n",
       "    <tr>\n",
       "      <th>75%</th>\n",
       "      <td>200.000000</td>\n",
       "    </tr>\n",
       "    <tr>\n",
       "      <th>max</th>\n",
       "      <td>301.000000</td>\n",
       "    </tr>\n",
       "  </tbody>\n",
       "</table>\n",
       "</div>"
      ],
      "text/plain": [
       "               기관아이디\n",
       "count  142664.000000\n",
       "mean      170.411127\n",
       "std        59.214484\n",
       "min       101.000000\n",
       "25%       109.000000\n",
       "50%       187.000000\n",
       "75%       200.000000\n",
       "max       301.000000"
      ]
     },
     "execution_count": 27,
     "metadata": {},
     "output_type": "execute_result"
    }
   ],
   "source": [
    "df.describe() # describe() 메서드: 생성한 데이터프레임의 간단한 통계 정보 보여준다.\n",
    "#  컬럼별로 데이터의 개수(count), 데이터의 평균값(mean), 표준 편차(std), 최솟값(min), 4분위수(25%, 50%, 75%),\n",
    "# 그리고 최댓값(max)들의 정보를 알 수 있습니다."
   ]
  },
  {
   "cell_type": "code",
   "execution_count": 28,
   "id": "31d7c308",
   "metadata": {},
   "outputs": [
    {
     "data": {
      "text/html": [
       "<div>\n",
       "<style scoped>\n",
       "    .dataframe tbody tr th:only-of-type {\n",
       "        vertical-align: middle;\n",
       "    }\n",
       "\n",
       "    .dataframe tbody tr th {\n",
       "        vertical-align: top;\n",
       "    }\n",
       "\n",
       "    .dataframe thead th {\n",
       "        text-align: right;\n",
       "    }\n",
       "</style>\n",
       "<table border=\"1\" class=\"dataframe\">\n",
       "  <thead>\n",
       "    <tr style=\"text-align: right;\">\n",
       "      <th></th>\n",
       "      <th>0</th>\n",
       "      <th>1</th>\n",
       "      <th>2</th>\n",
       "      <th>3</th>\n",
       "      <th>4</th>\n",
       "      <th>5</th>\n",
       "      <th>6</th>\n",
       "      <th>7</th>\n",
       "      <th>8</th>\n",
       "      <th>9</th>\n",
       "      <th>...</th>\n",
       "      <th>142654</th>\n",
       "      <th>142655</th>\n",
       "      <th>142656</th>\n",
       "      <th>142657</th>\n",
       "      <th>142658</th>\n",
       "      <th>142659</th>\n",
       "      <th>142660</th>\n",
       "      <th>142661</th>\n",
       "      <th>142662</th>\n",
       "      <th>142663</th>\n",
       "    </tr>\n",
       "  </thead>\n",
       "  <tbody>\n",
       "    <tr>\n",
       "      <th>기관아이디</th>\n",
       "      <td>141</td>\n",
       "      <td>187</td>\n",
       "      <td>191</td>\n",
       "      <td>224</td>\n",
       "      <td>106</td>\n",
       "      <td>106</td>\n",
       "      <td>112</td>\n",
       "      <td>189</td>\n",
       "      <td>224</td>\n",
       "      <td>116</td>\n",
       "      <td>...</td>\n",
       "      <td>113</td>\n",
       "      <td>101</td>\n",
       "      <td>300</td>\n",
       "      <td>191</td>\n",
       "      <td>192</td>\n",
       "      <td>220</td>\n",
       "      <td>105</td>\n",
       "      <td>105</td>\n",
       "      <td>300</td>\n",
       "      <td>181</td>\n",
       "    </tr>\n",
       "    <tr>\n",
       "      <th>기관이름</th>\n",
       "      <td>덕유산 자연휴양림</td>\n",
       "      <td>희리산 자연휴양림</td>\n",
       "      <td>오서산 자연휴양림</td>\n",
       "      <td>운악산 자연휴양림</td>\n",
       "      <td>청태산 자연휴양림</td>\n",
       "      <td>청태산 자연휴양림</td>\n",
       "      <td>미천골 자연휴양림</td>\n",
       "      <td>변산 자연휴양림</td>\n",
       "      <td>운악산 자연휴양림</td>\n",
       "      <td>화천숲속 야영장</td>\n",
       "      <td>...</td>\n",
       "      <td>가리왕산 자연휴양림</td>\n",
       "      <td>유명산 자연휴양림</td>\n",
       "      <td>상당산성 자연휴양림</td>\n",
       "      <td>오서산 자연휴양림</td>\n",
       "      <td>남해편백 자연휴양림</td>\n",
       "      <td>용현 자연휴양림</td>\n",
       "      <td>신불산 자연휴양림</td>\n",
       "      <td>신불산 자연휴양림</td>\n",
       "      <td>상당산성 자연휴양림</td>\n",
       "      <td>방장산 자연휴양림</td>\n",
       "    </tr>\n",
       "    <tr>\n",
       "      <th>상품이름</th>\n",
       "      <td>야영데크(127)</td>\n",
       "      <td>607호 수선화</td>\n",
       "      <td>402호 복숭아꽃</td>\n",
       "      <td>[A동]꾀꼬리</td>\n",
       "      <td>분비나무</td>\n",
       "      <td>분비나무</td>\n",
       "      <td>희망</td>\n",
       "      <td>고사포항</td>\n",
       "      <td>[B동]다람쥐</td>\n",
       "      <td>오토캠핑장42(쇄석)</td>\n",
       "      <td>...</td>\n",
       "      <td>파랑새</td>\n",
       "      <td>[연]오동나무</td>\n",
       "      <td>1휴_203호백리향</td>\n",
       "      <td>106호 동자꽃</td>\n",
       "      <td>야영데크(119)</td>\n",
       "      <td>206호 창출</td>\n",
       "      <td>하단2관 단풍취</td>\n",
       "      <td>하단2관 고사리</td>\n",
       "      <td>1휴_207호금낭화</td>\n",
       "      <td>오동나무(2층)</td>\n",
       "    </tr>\n",
       "    <tr>\n",
       "      <th>숙박일자</th>\n",
       "      <td>2021-09-26</td>\n",
       "      <td>2021-10-04</td>\n",
       "      <td>2021-09-24</td>\n",
       "      <td>2021-09-30</td>\n",
       "      <td>2021-09-29</td>\n",
       "      <td>2021-09-30</td>\n",
       "      <td>2021-09-26</td>\n",
       "      <td>2021-09-26</td>\n",
       "      <td>2021-09-25</td>\n",
       "      <td>2021-09-24</td>\n",
       "      <td>...</td>\n",
       "      <td>2022-03-14</td>\n",
       "      <td>2022-03-14</td>\n",
       "      <td>2022-03-14</td>\n",
       "      <td>2022-03-14</td>\n",
       "      <td>2022-03-14</td>\n",
       "      <td>2022-03-14</td>\n",
       "      <td>2022-03-14</td>\n",
       "      <td>2022-03-14</td>\n",
       "      <td>2022-03-14</td>\n",
       "      <td>2022-03-14</td>\n",
       "    </tr>\n",
       "    <tr>\n",
       "      <th>상태</th>\n",
       "      <td>체크아웃</td>\n",
       "      <td>체크아웃</td>\n",
       "      <td>체크아웃</td>\n",
       "      <td>체크아웃</td>\n",
       "      <td>체크아웃</td>\n",
       "      <td>체크아웃</td>\n",
       "      <td>체크아웃</td>\n",
       "      <td>체크아웃</td>\n",
       "      <td>체크아웃</td>\n",
       "      <td>체크아웃</td>\n",
       "      <td>...</td>\n",
       "      <td>체크아웃</td>\n",
       "      <td>체크아웃</td>\n",
       "      <td>체크아웃</td>\n",
       "      <td>체크아웃</td>\n",
       "      <td>체크아웃</td>\n",
       "      <td>체크아웃</td>\n",
       "      <td>체크아웃</td>\n",
       "      <td>체크아웃</td>\n",
       "      <td>체크아웃</td>\n",
       "      <td>체크아웃</td>\n",
       "    </tr>\n",
       "  </tbody>\n",
       "</table>\n",
       "<p>5 rows × 142664 columns</p>\n",
       "</div>"
      ],
      "text/plain": [
       "           0           1           2           3           4           5       \\\n",
       "기관아이디         141         187         191         224         106         106   \n",
       "기관이름    덕유산 자연휴양림   희리산 자연휴양림   오서산 자연휴양림   운악산 자연휴양림   청태산 자연휴양림   청태산 자연휴양림   \n",
       "상품이름    야영데크(127)    607호 수선화   402호 복숭아꽃     [A동]꾀꼬리        분비나무        분비나무   \n",
       "숙박일자   2021-09-26  2021-10-04  2021-09-24  2021-09-30  2021-09-29  2021-09-30   \n",
       "상태           체크아웃        체크아웃        체크아웃        체크아웃        체크아웃        체크아웃   \n",
       "\n",
       "           6           7           8            9       ...      142654  \\\n",
       "기관아이디         112         189         224          116  ...         113   \n",
       "기관이름    미천골 자연휴양림    변산 자연휴양림   운악산 자연휴양림     화천숲속 야영장  ...  가리왕산 자연휴양림   \n",
       "상품이름           희망        고사포항     [B동]다람쥐  오토캠핑장42(쇄석)  ...         파랑새   \n",
       "숙박일자   2021-09-26  2021-09-26  2021-09-25   2021-09-24  ...  2022-03-14   \n",
       "상태           체크아웃        체크아웃        체크아웃         체크아웃  ...        체크아웃   \n",
       "\n",
       "           142655      142656      142657      142658      142659      142660  \\\n",
       "기관아이디         101         300         191         192         220         105   \n",
       "기관이름    유명산 자연휴양림  상당산성 자연휴양림   오서산 자연휴양림  남해편백 자연휴양림    용현 자연휴양림   신불산 자연휴양림   \n",
       "상품이름      [연]오동나무  1휴_203호백리향    106호 동자꽃   야영데크(119)     206호 창출    하단2관 단풍취   \n",
       "숙박일자   2022-03-14  2022-03-14  2022-03-14  2022-03-14  2022-03-14  2022-03-14   \n",
       "상태           체크아웃        체크아웃        체크아웃        체크아웃        체크아웃        체크아웃   \n",
       "\n",
       "           142661      142662      142663  \n",
       "기관아이디         105         300         181  \n",
       "기관이름    신불산 자연휴양림  상당산성 자연휴양림   방장산 자연휴양림  \n",
       "상품이름     하단2관 고사리  1휴_207호금낭화    오동나무(2층)  \n",
       "숙박일자   2022-03-14  2022-03-14  2022-03-14  \n",
       "상태           체크아웃        체크아웃        체크아웃  \n",
       "\n",
       "[5 rows x 142664 columns]"
      ]
     },
     "execution_count": 28,
     "metadata": {},
     "output_type": "execute_result"
    }
   ],
   "source": [
    "df.T # 열과 행을 바꾼 형태의 데이터 프레임"
   ]
  },
  {
   "cell_type": "code",
   "execution_count": 31,
   "id": "6293eaae",
   "metadata": {},
   "outputs": [
    {
     "data": {
      "text/html": [
       "<div>\n",
       "<style scoped>\n",
       "    .dataframe tbody tr th:only-of-type {\n",
       "        vertical-align: middle;\n",
       "    }\n",
       "\n",
       "    .dataframe tbody tr th {\n",
       "        vertical-align: top;\n",
       "    }\n",
       "\n",
       "    .dataframe thead th {\n",
       "        text-align: right;\n",
       "    }\n",
       "</style>\n",
       "<table border=\"1\" class=\"dataframe\">\n",
       "  <thead>\n",
       "    <tr style=\"text-align: right;\">\n",
       "      <th></th>\n",
       "      <th>숙박일자</th>\n",
       "      <th>상품이름</th>\n",
       "      <th>상태</th>\n",
       "      <th>기관이름</th>\n",
       "      <th>기관아이디</th>\n",
       "    </tr>\n",
       "  </thead>\n",
       "  <tbody>\n",
       "    <tr>\n",
       "      <th>0</th>\n",
       "      <td>2021-09-26</td>\n",
       "      <td>야영데크(127)</td>\n",
       "      <td>체크아웃</td>\n",
       "      <td>덕유산 자연휴양림</td>\n",
       "      <td>141</td>\n",
       "    </tr>\n",
       "    <tr>\n",
       "      <th>1</th>\n",
       "      <td>2021-10-04</td>\n",
       "      <td>607호 수선화</td>\n",
       "      <td>체크아웃</td>\n",
       "      <td>희리산 자연휴양림</td>\n",
       "      <td>187</td>\n",
       "    </tr>\n",
       "    <tr>\n",
       "      <th>2</th>\n",
       "      <td>2021-09-24</td>\n",
       "      <td>402호 복숭아꽃</td>\n",
       "      <td>체크아웃</td>\n",
       "      <td>오서산 자연휴양림</td>\n",
       "      <td>191</td>\n",
       "    </tr>\n",
       "    <tr>\n",
       "      <th>3</th>\n",
       "      <td>2021-09-30</td>\n",
       "      <td>[A동]꾀꼬리</td>\n",
       "      <td>체크아웃</td>\n",
       "      <td>운악산 자연휴양림</td>\n",
       "      <td>224</td>\n",
       "    </tr>\n",
       "    <tr>\n",
       "      <th>4</th>\n",
       "      <td>2021-09-29</td>\n",
       "      <td>분비나무</td>\n",
       "      <td>체크아웃</td>\n",
       "      <td>청태산 자연휴양림</td>\n",
       "      <td>106</td>\n",
       "    </tr>\n",
       "    <tr>\n",
       "      <th>...</th>\n",
       "      <td>...</td>\n",
       "      <td>...</td>\n",
       "      <td>...</td>\n",
       "      <td>...</td>\n",
       "      <td>...</td>\n",
       "    </tr>\n",
       "    <tr>\n",
       "      <th>142659</th>\n",
       "      <td>2022-03-14</td>\n",
       "      <td>206호 창출</td>\n",
       "      <td>체크아웃</td>\n",
       "      <td>용현 자연휴양림</td>\n",
       "      <td>220</td>\n",
       "    </tr>\n",
       "    <tr>\n",
       "      <th>142660</th>\n",
       "      <td>2022-03-14</td>\n",
       "      <td>하단2관 단풍취</td>\n",
       "      <td>체크아웃</td>\n",
       "      <td>신불산 자연휴양림</td>\n",
       "      <td>105</td>\n",
       "    </tr>\n",
       "    <tr>\n",
       "      <th>142661</th>\n",
       "      <td>2022-03-14</td>\n",
       "      <td>하단2관 고사리</td>\n",
       "      <td>체크아웃</td>\n",
       "      <td>신불산 자연휴양림</td>\n",
       "      <td>105</td>\n",
       "    </tr>\n",
       "    <tr>\n",
       "      <th>142662</th>\n",
       "      <td>2022-03-14</td>\n",
       "      <td>1휴_207호금낭화</td>\n",
       "      <td>체크아웃</td>\n",
       "      <td>상당산성 자연휴양림</td>\n",
       "      <td>300</td>\n",
       "    </tr>\n",
       "    <tr>\n",
       "      <th>142663</th>\n",
       "      <td>2022-03-14</td>\n",
       "      <td>오동나무(2층)</td>\n",
       "      <td>체크아웃</td>\n",
       "      <td>방장산 자연휴양림</td>\n",
       "      <td>181</td>\n",
       "    </tr>\n",
       "  </tbody>\n",
       "</table>\n",
       "<p>142664 rows × 5 columns</p>\n",
       "</div>"
      ],
      "text/plain": [
       "              숙박일자        상품이름    상태        기관이름  기관아이디\n",
       "0       2021-09-26   야영데크(127)  체크아웃   덕유산 자연휴양림    141\n",
       "1       2021-10-04    607호 수선화  체크아웃   희리산 자연휴양림    187\n",
       "2       2021-09-24   402호 복숭아꽃  체크아웃   오서산 자연휴양림    191\n",
       "3       2021-09-30     [A동]꾀꼬리  체크아웃   운악산 자연휴양림    224\n",
       "4       2021-09-29        분비나무  체크아웃   청태산 자연휴양림    106\n",
       "...            ...         ...   ...         ...    ...\n",
       "142659  2022-03-14     206호 창출  체크아웃    용현 자연휴양림    220\n",
       "142660  2022-03-14    하단2관 단풍취  체크아웃   신불산 자연휴양림    105\n",
       "142661  2022-03-14    하단2관 고사리  체크아웃   신불산 자연휴양림    105\n",
       "142662  2022-03-14  1휴_207호금낭화  체크아웃  상당산성 자연휴양림    300\n",
       "142663  2022-03-14    오동나무(2층)  체크아웃   방장산 자연휴양림    181\n",
       "\n",
       "[142664 rows x 5 columns]"
      ]
     },
     "execution_count": 31,
     "metadata": {},
     "output_type": "execute_result"
    }
   ],
   "source": [
    "df.sort_index(axis=1, ascending=False) # .sort_index() 메서드: 행과 열 이름을 정렬해 나타냄. 정렬할 대상 축을 결정할 때에는 axis 사용.\n",
    "# axis=0이면 인덱스 기준으로 정렬(기본값)\n",
    "# axis=1이면 컬럼을 기준으로 정렬\n",
    "# 정렬의 방향에 대한 파라미터는 ascending 이용\n",
    "# ascending=True: 오름차순 정렬(기본값)\n",
    "# ascendng=False: 내림차순 정렬"
   ]
  },
  {
   "cell_type": "markdown",
   "id": "4c836696",
   "metadata": {},
   "source": [
    "# 데이터 선택하기 (Selection)"
   ]
  },
  {
   "cell_type": "markdown",
   "id": "b82b8235",
   "metadata": {},
   "source": [
    "<hr>"
   ]
  },
  {
   "cell_type": "markdown",
   "id": "25d0be61",
   "metadata": {},
   "source": [
    "데이터 프레임 자체가 갖고 있는 `[]` 슬라이싱 기능 이용\n"
   ]
  },
  {
   "cell_type": "markdown",
   "id": "5454b064",
   "metadata": {},
   "source": [
    "특정 '컬럼'의 값들만 가져오고 싶다면?"
   ]
  },
  {
   "cell_type": "markdown",
   "id": "cf528b21",
   "metadata": {},
   "source": [
    "=> df['컬럼명']\n",
    "이는 `df.컬럼명`과 동일, 리턴되는 값은 Series 의 자료구조를 가지고 있음"
   ]
  },
  {
   "cell_type": "code",
   "execution_count": 37,
   "id": "fb60c184",
   "metadata": {},
   "outputs": [
    {
     "data": {
      "text/plain": [
       "0          덕유산 자연휴양림\n",
       "1          희리산 자연휴양림\n",
       "2          오서산 자연휴양림\n",
       "3          운악산 자연휴양림\n",
       "4          청태산 자연휴양림\n",
       "             ...    \n",
       "142659      용현 자연휴양림\n",
       "142660     신불산 자연휴양림\n",
       "142661     신불산 자연휴양림\n",
       "142662    상당산성 자연휴양림\n",
       "142663     방장산 자연휴양림\n",
       "Name: 기관이름, Length: 142664, dtype: object"
      ]
     },
     "execution_count": 37,
     "metadata": {},
     "output_type": "execute_result"
    }
   ],
   "source": [
    "df['기관이름']"
   ]
  },
  {
   "cell_type": "code",
   "execution_count": 38,
   "id": "7c7b2cac",
   "metadata": {},
   "outputs": [
    {
     "data": {
      "text/plain": [
       "pandas.core.series.Series"
      ]
     },
     "execution_count": 38,
     "metadata": {},
     "output_type": "execute_result"
    }
   ],
   "source": [
    "type(df['기관이름'])"
   ]
  },
  {
   "cell_type": "markdown",
   "id": "78638d0d",
   "metadata": {},
   "source": [
    "## 컬럼명을 이용해 데이터 선택하기(컬럼 선택)"
   ]
  },
  {
   "cell_type": "markdown",
   "id": "bcfab844",
   "metadata": {},
   "source": [
    "특정 ‘행 범위’를 가져오고 싶다면 다음과 같이 리스트를 슬라이싱 할 때와 같이 []를 이용할 수 있습니다.  "
   ]
  },
  {
   "cell_type": "markdown",
   "id": "51fe6389",
   "metadata": {},
   "source": [
    "df[0:3] 라고 하면 0, 1, 2번째 행을 가져옵니다(데이터프레임의 첫번째 행을 0번째 행이라고 가정). [0:3] 이라고 입력했지만 3번째 행을 가져오지 않음에 유의합니다."
   ]
  },
  {
   "cell_type": "markdown",
   "id": "9d995039",
   "metadata": {},
   "source": [
    "또 다른 방법으로 df['20130102':'20130104'] 인덱스명을 직접 넣어서 해당하는 ‘행 범위’를 가져올 수도 있습니다. 이 때에는 숫자를 이용하여 슬라이싱 할 때와 달리 처음과 끝의 행이 모두 포함된 결과를 가져옵니다."
   ]
  },
  {
   "cell_type": "code",
   "execution_count": 41,
   "id": "c8924187",
   "metadata": {},
   "outputs": [
    {
     "data": {
      "text/html": [
       "<div>\n",
       "<style scoped>\n",
       "    .dataframe tbody tr th:only-of-type {\n",
       "        vertical-align: middle;\n",
       "    }\n",
       "\n",
       "    .dataframe tbody tr th {\n",
       "        vertical-align: top;\n",
       "    }\n",
       "\n",
       "    .dataframe thead th {\n",
       "        text-align: right;\n",
       "    }\n",
       "</style>\n",
       "<table border=\"1\" class=\"dataframe\">\n",
       "  <thead>\n",
       "    <tr style=\"text-align: right;\">\n",
       "      <th></th>\n",
       "      <th>기관아이디</th>\n",
       "      <th>기관이름</th>\n",
       "      <th>상품이름</th>\n",
       "      <th>숙박일자</th>\n",
       "      <th>상태</th>\n",
       "    </tr>\n",
       "  </thead>\n",
       "  <tbody>\n",
       "    <tr>\n",
       "      <th>0</th>\n",
       "      <td>141</td>\n",
       "      <td>덕유산 자연휴양림</td>\n",
       "      <td>야영데크(127)</td>\n",
       "      <td>2021-09-26</td>\n",
       "      <td>체크아웃</td>\n",
       "    </tr>\n",
       "    <tr>\n",
       "      <th>1</th>\n",
       "      <td>187</td>\n",
       "      <td>희리산 자연휴양림</td>\n",
       "      <td>607호 수선화</td>\n",
       "      <td>2021-10-04</td>\n",
       "      <td>체크아웃</td>\n",
       "    </tr>\n",
       "    <tr>\n",
       "      <th>2</th>\n",
       "      <td>191</td>\n",
       "      <td>오서산 자연휴양림</td>\n",
       "      <td>402호 복숭아꽃</td>\n",
       "      <td>2021-09-24</td>\n",
       "      <td>체크아웃</td>\n",
       "    </tr>\n",
       "  </tbody>\n",
       "</table>\n",
       "</div>"
      ],
      "text/plain": [
       "   기관아이디       기관이름       상품이름        숙박일자    상태\n",
       "0    141  덕유산 자연휴양림  야영데크(127)  2021-09-26  체크아웃\n",
       "1    187  희리산 자연휴양림   607호 수선화  2021-10-04  체크아웃\n",
       "2    191  오서산 자연휴양림  402호 복숭아꽃  2021-09-24  체크아웃"
      ]
     },
     "execution_count": 41,
     "metadata": {},
     "output_type": "execute_result"
    }
   ],
   "source": [
    "df[:3] # 맨처음 3개의 행 가져오기"
   ]
  },
  {
   "cell_type": "code",
   "execution_count": 45,
   "id": "08b58147",
   "metadata": {},
   "outputs": [
    {
     "data": {
      "text/html": [
       "<div>\n",
       "<style scoped>\n",
       "    .dataframe tbody tr th:only-of-type {\n",
       "        vertical-align: middle;\n",
       "    }\n",
       "\n",
       "    .dataframe tbody tr th {\n",
       "        vertical-align: top;\n",
       "    }\n",
       "\n",
       "    .dataframe thead th {\n",
       "        text-align: right;\n",
       "    }\n",
       "</style>\n",
       "<table border=\"1\" class=\"dataframe\">\n",
       "  <thead>\n",
       "    <tr style=\"text-align: right;\">\n",
       "      <th></th>\n",
       "      <th>기관아이디</th>\n",
       "      <th>기관이름</th>\n",
       "      <th>상품이름</th>\n",
       "      <th>숙박일자</th>\n",
       "      <th>상태</th>\n",
       "    </tr>\n",
       "  </thead>\n",
       "  <tbody>\n",
       "    <tr>\n",
       "      <th>119</th>\n",
       "      <td>106</td>\n",
       "      <td>청태산 자연휴양림</td>\n",
       "      <td>야영데크(127)</td>\n",
       "      <td>2021-09-25</td>\n",
       "      <td>체크아웃</td>\n",
       "    </tr>\n",
       "    <tr>\n",
       "      <th>120</th>\n",
       "      <td>106</td>\n",
       "      <td>청태산 자연휴양림</td>\n",
       "      <td>야영데크(117)</td>\n",
       "      <td>2021-09-24</td>\n",
       "      <td>체크아웃</td>\n",
       "    </tr>\n",
       "    <tr>\n",
       "      <th>121</th>\n",
       "      <td>106</td>\n",
       "      <td>청태산 자연휴양림</td>\n",
       "      <td>야영데크(117)</td>\n",
       "      <td>2021-09-25</td>\n",
       "      <td>체크아웃</td>\n",
       "    </tr>\n",
       "    <tr>\n",
       "      <th>122</th>\n",
       "      <td>106</td>\n",
       "      <td>청태산 자연휴양림</td>\n",
       "      <td>분비나무</td>\n",
       "      <td>2021-09-24</td>\n",
       "      <td>체크아웃</td>\n",
       "    </tr>\n",
       "    <tr>\n",
       "      <th>123</th>\n",
       "      <td>106</td>\n",
       "      <td>청태산 자연휴양림</td>\n",
       "      <td>야영데크(128)</td>\n",
       "      <td>2021-09-25</td>\n",
       "      <td>체크아웃</td>\n",
       "    </tr>\n",
       "    <tr>\n",
       "      <th>124</th>\n",
       "      <td>106</td>\n",
       "      <td>청태산 자연휴양림</td>\n",
       "      <td>소나무</td>\n",
       "      <td>2021-09-24</td>\n",
       "      <td>체크아웃</td>\n",
       "    </tr>\n",
       "    <tr>\n",
       "      <th>125</th>\n",
       "      <td>106</td>\n",
       "      <td>청태산 자연휴양림</td>\n",
       "      <td>야영데크(103)</td>\n",
       "      <td>2021-09-24</td>\n",
       "      <td>체크아웃</td>\n",
       "    </tr>\n",
       "    <tr>\n",
       "      <th>126</th>\n",
       "      <td>106</td>\n",
       "      <td>청태산 자연휴양림</td>\n",
       "      <td>은행나무</td>\n",
       "      <td>2021-09-24</td>\n",
       "      <td>체크아웃</td>\n",
       "    </tr>\n",
       "  </tbody>\n",
       "</table>\n",
       "</div>"
      ],
      "text/plain": [
       "     기관아이디       기관이름       상품이름        숙박일자    상태\n",
       "119    106  청태산 자연휴양림  야영데크(127)  2021-09-25  체크아웃\n",
       "120    106  청태산 자연휴양림  야영데크(117)  2021-09-24  체크아웃\n",
       "121    106  청태산 자연휴양림  야영데크(117)  2021-09-25  체크아웃\n",
       "122    106  청태산 자연휴양림       분비나무  2021-09-24  체크아웃\n",
       "123    106  청태산 자연휴양림  야영데크(128)  2021-09-25  체크아웃\n",
       "124    106  청태산 자연휴양림        소나무  2021-09-24  체크아웃\n",
       "125    106  청태산 자연휴양림  야영데크(103)  2021-09-24  체크아웃\n",
       "126    106  청태산 자연휴양림       은행나무  2021-09-24  체크아웃"
      ]
     },
     "execution_count": 45,
     "metadata": {},
     "output_type": "execute_result"
    }
   ],
   "source": [
    "df[119:127] # 인덱스명에 해당되는 값들을 가져오기"
   ]
  },
  {
   "cell_type": "markdown",
   "id": "6588466f",
   "metadata": {},
   "source": [
    "## 이름을 이용해 선택하기 : .loc"
   ]
  },
  {
   "cell_type": "markdown",
   "id": "2e876004",
   "metadata": {},
   "source": [
    "라벨의 이름을 이용해 선택할 수 있는 `.loc`를 이용할 수도 있다."
   ]
  },
  {
   "cell_type": "code",
   "execution_count": 51,
   "id": "f76b6675",
   "metadata": {},
   "outputs": [
    {
     "data": {
      "text/html": [
       "<div>\n",
       "<style scoped>\n",
       "    .dataframe tbody tr th:only-of-type {\n",
       "        vertical-align: middle;\n",
       "    }\n",
       "\n",
       "    .dataframe tbody tr th {\n",
       "        vertical-align: top;\n",
       "    }\n",
       "\n",
       "    .dataframe thead th {\n",
       "        text-align: right;\n",
       "    }\n",
       "</style>\n",
       "<table border=\"1\" class=\"dataframe\">\n",
       "  <thead>\n",
       "    <tr style=\"text-align: right;\">\n",
       "      <th></th>\n",
       "      <th>기관이름</th>\n",
       "      <th>상품이름</th>\n",
       "    </tr>\n",
       "  </thead>\n",
       "  <tbody>\n",
       "    <tr>\n",
       "      <th>0</th>\n",
       "      <td>덕유산 자연휴양림</td>\n",
       "      <td>야영데크(127)</td>\n",
       "    </tr>\n",
       "    <tr>\n",
       "      <th>1</th>\n",
       "      <td>희리산 자연휴양림</td>\n",
       "      <td>607호 수선화</td>\n",
       "    </tr>\n",
       "    <tr>\n",
       "      <th>2</th>\n",
       "      <td>오서산 자연휴양림</td>\n",
       "      <td>402호 복숭아꽃</td>\n",
       "    </tr>\n",
       "    <tr>\n",
       "      <th>3</th>\n",
       "      <td>운악산 자연휴양림</td>\n",
       "      <td>[A동]꾀꼬리</td>\n",
       "    </tr>\n",
       "    <tr>\n",
       "      <th>4</th>\n",
       "      <td>청태산 자연휴양림</td>\n",
       "      <td>분비나무</td>\n",
       "    </tr>\n",
       "    <tr>\n",
       "      <th>...</th>\n",
       "      <td>...</td>\n",
       "      <td>...</td>\n",
       "    </tr>\n",
       "    <tr>\n",
       "      <th>142659</th>\n",
       "      <td>용현 자연휴양림</td>\n",
       "      <td>206호 창출</td>\n",
       "    </tr>\n",
       "    <tr>\n",
       "      <th>142660</th>\n",
       "      <td>신불산 자연휴양림</td>\n",
       "      <td>하단2관 단풍취</td>\n",
       "    </tr>\n",
       "    <tr>\n",
       "      <th>142661</th>\n",
       "      <td>신불산 자연휴양림</td>\n",
       "      <td>하단2관 고사리</td>\n",
       "    </tr>\n",
       "    <tr>\n",
       "      <th>142662</th>\n",
       "      <td>상당산성 자연휴양림</td>\n",
       "      <td>1휴_207호금낭화</td>\n",
       "    </tr>\n",
       "    <tr>\n",
       "      <th>142663</th>\n",
       "      <td>방장산 자연휴양림</td>\n",
       "      <td>오동나무(2층)</td>\n",
       "    </tr>\n",
       "  </tbody>\n",
       "</table>\n",
       "<p>142664 rows × 2 columns</p>\n",
       "</div>"
      ],
      "text/plain": [
       "              기관이름        상품이름\n",
       "0        덕유산 자연휴양림   야영데크(127)\n",
       "1        희리산 자연휴양림    607호 수선화\n",
       "2        오서산 자연휴양림   402호 복숭아꽃\n",
       "3        운악산 자연휴양림     [A동]꾀꼬리\n",
       "4        청태산 자연휴양림        분비나무\n",
       "...            ...         ...\n",
       "142659    용현 자연휴양림     206호 창출\n",
       "142660   신불산 자연휴양림    하단2관 단풍취\n",
       "142661   신불산 자연휴양림    하단2관 고사리\n",
       "142662  상당산성 자연휴양림  1휴_207호금낭화\n",
       "142663   방장산 자연휴양림    오동나무(2층)\n",
       "\n",
       "[142664 rows x 2 columns]"
      ]
     },
     "execution_count": 51,
     "metadata": {},
     "output_type": "execute_result"
    }
   ],
   "source": [
    "df.loc[:,['기관이름','상품이름']]"
   ]
  },
  {
   "cell_type": "markdown",
   "id": "b586cde9",
   "metadata": {},
   "source": [
    "## 위치를 이용해 선택하기: .iloc"
   ]
  },
  {
   "cell_type": "markdown",
   "id": "38f80728",
   "metadata": {},
   "source": [
    "위치를 나타내는 인덱스 번호를 이용해 데이터를 선택할 수 있다."
   ]
  },
  {
   "cell_type": "markdown",
   "id": "704e33e9",
   "metadata": {},
   "source": [
    "여기서 인덱스 번호는 python에서 사용하는 인덱스와 같은 개념으로 이해하자!"
   ]
  },
  {
   "cell_type": "markdown",
   "id": "1a845534",
   "metadata": {},
   "source": [
    "인덱스 번호는 0부터 시작하므로, 첫번째 데이터는 인덱스 번호가 0이고, 두번째 데이터는 인덱스 번호가 1이라는 뜻이다. "
   ]
  },
  {
   "cell_type": "code",
   "execution_count": 54,
   "id": "45a83a61",
   "metadata": {},
   "outputs": [
    {
     "data": {
      "text/plain": [
       "기관아이디           224\n",
       "기관이름      운악산 자연휴양림\n",
       "상품이름        [A동]꾀꼬리\n",
       "숙박일자     2021-09-30\n",
       "상태             체크아웃\n",
       "Name: 3, dtype: object"
      ]
     },
     "execution_count": 54,
     "metadata": {},
     "output_type": "execute_result"
    }
   ],
   "source": [
    "df.iloc[3] # 인덱스 번호 3 => 네번째 행 선택"
   ]
  },
  {
   "cell_type": "markdown",
   "id": "00f44617",
   "metadata": {},
   "source": [
    "인덱스 번호로 행 뿐만 아니라 열도 선택가능. "
   ]
  },
  {
   "cell_type": "markdown",
   "id": "45a0eb32",
   "metadata": {},
   "source": [
    "또한 numpy 나 python의 슬라이싱 기능과 비슷하게 사용할 수 있다."
   ]
  },
  {
   "cell_type": "markdown",
   "id": "524fe873",
   "metadata": {},
   "source": [
    "행과 열의 인덱스를 기준으로 이용해 데이터를 선택해보자.\n",
    "행의 인덱스는 3:5로 네번째 행과 다섯번째 행을 선택하며, 열의 인덱스는 0:2로 첫번째 열과 두 번째 열 선택!"
   ]
  },
  {
   "cell_type": "code",
   "execution_count": 56,
   "id": "34a66d64",
   "metadata": {},
   "outputs": [
    {
     "data": {
      "text/html": [
       "<div>\n",
       "<style scoped>\n",
       "    .dataframe tbody tr th:only-of-type {\n",
       "        vertical-align: middle;\n",
       "    }\n",
       "\n",
       "    .dataframe tbody tr th {\n",
       "        vertical-align: top;\n",
       "    }\n",
       "\n",
       "    .dataframe thead th {\n",
       "        text-align: right;\n",
       "    }\n",
       "</style>\n",
       "<table border=\"1\" class=\"dataframe\">\n",
       "  <thead>\n",
       "    <tr style=\"text-align: right;\">\n",
       "      <th></th>\n",
       "      <th>기관아이디</th>\n",
       "      <th>기관이름</th>\n",
       "    </tr>\n",
       "  </thead>\n",
       "  <tbody>\n",
       "    <tr>\n",
       "      <th>3</th>\n",
       "      <td>224</td>\n",
       "      <td>운악산 자연휴양림</td>\n",
       "    </tr>\n",
       "    <tr>\n",
       "      <th>4</th>\n",
       "      <td>106</td>\n",
       "      <td>청태산 자연휴양림</td>\n",
       "    </tr>\n",
       "  </tbody>\n",
       "</table>\n",
       "</div>"
      ],
      "text/plain": [
       "   기관아이디       기관이름\n",
       "3    224  운악산 자연휴양림\n",
       "4    106  청태산 자연휴양림"
      ]
     },
     "execution_count": 56,
     "metadata": {},
     "output_type": "execute_result"
    }
   ],
   "source": [
    "df.iloc[3:5, 0:2]"
   ]
  },
  {
   "cell_type": "markdown",
   "id": "7ca61c7f",
   "metadata": {},
   "source": [
    "# 결측치"
   ]
  },
  {
   "cell_type": "markdown",
   "id": "31a98a44",
   "metadata": {},
   "source": [
    "여러가지 이유로 데이터를 다 측정하지 못하는 경우 종종 발생\n",
    "측정되지 못해 비어있는 데이터를 '결측치'라고 한다.\n",
    "pandas에서 결측치를 `np.nan`으로 나타냄.\n",
    "pandas에서는 결측치를 기본적으로 연산에서 제외시킴."
   ]
  },
  {
   "cell_type": "code",
   "execution_count": null,
   "id": "4d188d2c",
   "metadata": {},
   "outputs": [],
   "source": []
  }
 ],
 "metadata": {
  "kernelspec": {
   "display_name": "Python 3 (ipykernel)",
   "language": "python",
   "name": "python3"
  },
  "language_info": {
   "codemirror_mode": {
    "name": "ipython",
    "version": 3
   },
   "file_extension": ".py",
   "mimetype": "text/x-python",
   "name": "python",
   "nbconvert_exporter": "python",
   "pygments_lexer": "ipython3",
   "version": "3.8.12"
  }
 },
 "nbformat": 4,
 "nbformat_minor": 5
}
